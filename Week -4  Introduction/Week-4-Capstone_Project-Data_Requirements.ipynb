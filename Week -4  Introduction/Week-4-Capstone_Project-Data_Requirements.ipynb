{
 "cells": [
  {
   "cell_type": "markdown",
   "metadata": {},
   "source": [
    "# Data Requirements\n",
    "\n",
    "Required data can be gathered from:\n",
    "\n",
    "- Madrid information, including districts and neighborhoods, can be obtained from Wikipedia: [Madrid](https://en.wikipedia.org/wiki/Madrid)\n",
    "\n",
    "- For geolocation of neighborhoods _Python geocorder_ will be used. \n",
    "\n",
    "- In order to obtain venues and their categories we will use [FOURSQUARE](https://foursquare.com/)\n",
    "\n"
   ]
  }
 ],
 "metadata": {
  "kernelspec": {
   "display_name": "Python 3",
   "language": "python",
   "name": "python3"
  },
  "language_info": {
   "codemirror_mode": {
    "name": "ipython",
    "version": 3
   },
   "file_extension": ".py",
   "mimetype": "text/x-python",
   "name": "python",
   "nbconvert_exporter": "python",
   "pygments_lexer": "ipython3",
   "version": "3.7.0"
  }
 },
 "nbformat": 4,
 "nbformat_minor": 2
}
